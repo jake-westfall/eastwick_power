{
 "cells": [
  {
   "cell_type": "code",
   "execution_count": 156,
   "metadata": {
    "collapsed": false
   },
   "outputs": [],
   "source": [
    "using DataFrames, MixedModels, Iterators, PyPlot"
   ]
  },
  {
   "cell_type": "markdown",
   "metadata": {},
   "source": [
    "For each sex, we want to simulate datasets so that, on average, they have\n",
    "\n",
    "1. a given standardized regression coefficient (denoted $b$) for the Attractiveness predictor (denoted $X$) \n",
    "2. a given set of Variance Partitioning Coefficients (VPCs) for the random effects\n",
    "\n",
    "In this preamble I describe how we can simulate datasets that meet both of these constraints. Then the rest of this notebook gives the Julia code that implements the simulation.\n",
    "\n",
    "Our model for each sex (note: not the model for the entire dataset after both sexes are combined) looks like\n",
    "$$\n",
    "Y = (\\beta_0 + u_P + u_T) + (\\beta_1 + u_{PX} + u_{TX})X + e,\n",
    "$$\n",
    "where $u_P$, $u_T$, $u_{PX}$, and $u_{TX}$ are, respectively, the random participant intercepts, random target intercepts, random participant sloeps, and random target slopes, and they have variances $\\sigma^2_P$ and $\\sigma^2_T$, $\\sigma^2_{PX}$, and $\\sigma^2_{TX}$ and zero means. $e$ is a random error term with variance $\\sigma^2_E$. All the random effects are assumed to be uncorrelated.\n",
    "\n",
    "Taking the variance of $Y$ (and treating $X$ as a random variable [independent of $u_{PX}$ and $u_{TX}$] so that we get the total or marginal variance of $Y$) gives\n",
    "$$\n",
    "\\begin{aligned}\n",
    "\\text{var}(Y) &= \\sigma^2_P + \\sigma^2_T + \\beta_1^2\\text{var}(X) + \\text{var}(u_{PX}X) + \\text{var}(u_{TX}X) + \\sigma^2_E\n",
    "\\\\ &= \\sigma^2_P + \\sigma^2_T + \\beta_1^2\\text{var}(X) + \\text{var}(X)\\sigma^2_{PX} + \\sigma^2_{PX}\\bar{X}^2 + \\text{var}(X)\\sigma^2_{TX} + \\sigma^2_{TX}\\bar{X}^2 + \\sigma^2_E.\n",
    "\\end{aligned}\n",
    "$$\n",
    "Now to implement constraint \\#1 from above, we assume both $X$ and $Y$ are standardized, in which case $\\beta_1 = b$, that is, the unstandardized regression coefficient and standardized regression coefficient are identical. Then we can simplify this variance equation into the form\n",
    "$$\n",
    "1 - b^2 = \\sigma^2_P + \\sigma^2_T + \\sigma^2_{PX} + \\sigma^2_{TX} + \\sigma^2_E. \\tag{1}\n",
    "$$\n",
    "So in order for us to generate a dataset with a particular standardized regression coefficient $b$, we just have to set the parameters of the true model so that they satisfy Equation 1.\n",
    "\n",
    "For constraint \\#2, first note that the VPC for a particular random effect $u$ with variance $\\sigma^2$ is defined as the proportion of $\\text{var}(Y|X)$ that is due to $u$, so that under the assumptions given above,\n",
    "$$\n",
    "VPC(u) = \\frac{\\sigma^2}{\\sigma^2_P + \\sigma^2_T + \\sigma^2_{PX} + \\sigma^2_{TX} + \\sigma^2_E}.\n",
    "$$\n",
    "Substiting Equation 1 into the above and solving for $\\sigma^2$ gives\n",
    "$$\n",
    "\\sigma^2 = (1 - b^2)VPC(u). \\tag{2}\n",
    "$$\n",
    "\n",
    "What this all says is that we can simulate datasets separately for each sex with a particular standardized regression coefficient and set of VPCs (on average) by (1) generating X to have mean=0 and variance=1, (2) setting $\\beta_1$ to the desired value $b$, (3) setting the variances of the random effects according to Equation 2. Then we can stack the two datasets and fit the model\n",
    "$$\n",
    "Y = (\\beta_0 + u_P + u_T) + (\\beta_1 + u_{PX} + u_{TX})X + \\beta_2Z + \\beta_3XZ + e,\n",
    "$$\n",
    "where $Z$ is a contrast coded predictor with values -0.5 for one sex and +0.5 for the other. Then the coefficient $\\beta_3$ gives the difference in standardized regression coefficients for the Attractiveness predictor ($X$) between the two sexes.\n",
    "\n",
    "For the equivalence test power simulation, we let both sexes have standardized regression coefficients of 0.3 and define the equivalence region to be $|\\hat{\\beta}_3| < 0.1$. The number of participants is set somewhere between 100 and 2000, varying uniformly on the log scale.\n",
    "\n",
    "For the significance test power simulation, we let the two sexes have standardized regression coefficients of 0.3 vs. 0.4, so that $\\beta_3 = 0.1$. The number of participants is set somewhere between 50 and 1000, varying uniformly on the log scale.\n",
    "\n",
    "In both cases, we set the number of targets to 592 and the VPCs to the defaults from the [WKJ 2014 power app](http://jakewestfall.org/power/), which are\n",
    "$$\n",
    "VPC_E = 0.4, VPC_P = 0.2, VPC_T = 0.2, VPC_{PX} = 0.1, VPC_{TX} = 0.1.\n",
    "$$\n",
    "Note that $VPC_E$ is 0.4 and not 0.3 because it has the variance of the participant-by-target interaction effects (which have a VPC of 0.1) implicity added to it."
   ]
  },
  {
   "cell_type": "markdown",
   "metadata": {},
   "source": [
    "# Define the simulation functions"
   ]
  },
  {
   "cell_type": "code",
   "execution_count": 66,
   "metadata": {
    "collapsed": false
   },
   "outputs": [
    {
     "name": "stderr",
     "output_type": "stream",
     "text": [
      "WARNING: Method definition make_df(Int64, Int64, Float64) in module Main at In[57]:3 overwritten at In[66]:3.\n"
     ]
    },
    {
     "data": {
      "text/plain": [
       "make_df (generic function with 2 methods)"
      ]
     },
     "execution_count": 66,
     "metadata": {},
     "output_type": "execute_result"
    }
   ],
   "source": [
    "function make_df(n::Int64, m::Int64, b::Float64)\n",
    "    # set up data frame\n",
    "    dat = collect(product(collect(1:n), collect(1:m)))\n",
    "    dat = DataFrame(subj=[i[1] for i in dat], stim=[i[2] for i in dat])\n",
    "    dat[:attract] = randn(n*m)\n",
    "\n",
    "    # add subject effects\n",
    "    subj_dat = DataFrame(\n",
    "        subj=collect(1:n),\n",
    "        subj_intercept=randn(n)*sqrt(.2*(1-b^2)),\n",
    "        subj_slope=randn(n)*sqrt(.1*(1-b^2)))\n",
    "    dat = join(dat, subj_dat, on=:subj)\n",
    "\n",
    "    # add stimulus effects\n",
    "    stim_dat = DataFrame(\n",
    "        stim=collect(1:m),\n",
    "        stim_intercept=randn(m)*sqrt(.2*(1-b^2)),\n",
    "        stim_slope=randn(m)*sqrt(.1*(1-b^2)))\n",
    "    dat = join(dat, stim_dat, on=:stim)\n",
    "\n",
    "    # add response\n",
    "    dat[:Y] = (dat[:subj_intercept] + dat[:stim_intercept]) +\n",
    "          (b + dat[:subj_slope] + dat[:stim_slope]).*dat[:attract] +\n",
    "          randn(n*m)*sqrt(.4*(1-b^2))\n",
    "\n",
    "    return dat\n",
    "end"
   ]
  },
  {
   "cell_type": "code",
   "execution_count": 99,
   "metadata": {
    "collapsed": false
   },
   "outputs": [
    {
     "name": "stderr",
     "output_type": "stream",
     "text": [
      "WARNING: Method definition sim(Int64, Int64, Array{Float64, 1}, Int64) in module Main at In[98]:5 overwritten at In[99]:5.\n"
     ]
    },
    {
     "data": {
      "text/plain": [
       "sim (generic function with 2 methods)"
      ]
     },
     "execution_count": 99,
     "metadata": {},
     "output_type": "execute_result"
    }
   ],
   "source": [
    "function sim(n::Int64, m::Int64, b::Array{Float64,1}, kind::Int64)\n",
    "    # b = array of 2 slopes\n",
    "    # kind: 1 = significance, 2 = equivalence\n",
    "    \n",
    "    width = [1.959964, 1.644854]\n",
    "    \n",
    "    # create separate datasets\n",
    "    dat1 = make_df(div(n,2), div(m,2), b[1])\n",
    "    dat2 = make_df(div(n,2), div(m,2), b[2])\n",
    "    dat2[:subj] += div(n,2)\n",
    "    dat2[:stim] += div(m,2)\n",
    "            \n",
    "    # stack the datasets\n",
    "    dat1[:sex] = -.5\n",
    "    dat2[:sex] = .5\n",
    "    dat = [dat1; dat2]\n",
    "    \n",
    "    # fit the model\n",
    "    res = fit!(lmm(@formula(Y ~ attract*sex + (attract|subj) + (attract|stim)), dat))\n",
    "    ci1 = fixef(res)[4] - width[kind]*stderr(res)[4]\n",
    "    ci2 = fixef(res)[4] + width[kind]*stderr(res)[4]\n",
    "    \n",
    "    significant = (ci1 > 0) || (ci2 < 0)\n",
    "    equivalent = (ci1 > -.1) & (ci2 < .1)\n",
    "    return [significant, equivalent][kind]\n",
    "end"
   ]
  },
  {
   "cell_type": "markdown",
   "metadata": {},
   "source": [
    "### estimate the time it will take to complete the full simulation"
   ]
  },
  {
   "cell_type": "code",
   "execution_count": 163,
   "metadata": {
    "collapsed": false
   },
   "outputs": [
    {
     "name": "stderr",
     "output_type": "stream",
     "text": [
      "WARNING: Method definition time_sim(Any) in module Main at In[158]:2 overwritten at In[163]:2.\n"
     ]
    },
    {
     "data": {
      "text/plain": [
       "10-element Array{Float64,1}:\n",
       "  1.10736\n",
       "  4.09962\n",
       "  9.80336\n",
       " 16.3663 \n",
       " 50.3909 \n",
       " 26.7308 \n",
       " 32.9139 \n",
       " 34.3602 \n",
       " 40.1057 \n",
       " 64.2408 "
      ]
     },
     "execution_count": 163,
     "metadata": {},
     "output_type": "execute_result"
    }
   ],
   "source": [
    "x = linspace(100, 2000, 10)\n",
    "time_sim(n) = @elapsed sim(convert(Int64, round(n)), 592, [.3, .3], 2)\n",
    "times = map(n -> time_sim(n), x)"
   ]
  },
  {
   "cell_type": "code",
   "execution_count": 165,
   "metadata": {
    "collapsed": false
   },
   "outputs": [
    {
     "data": {
      "image/png": "[encoded data removed]",
      "text/plain": [
       "PyPlot.Figure(PyObject <matplotlib.figure.Figure object at 0x3295fafd0>)"
      ]
     },
     "metadata": {},
     "output_type": "display_data"
    }
   ],
   "source": [
    "a, b = linreg(x, times)\n",
    "scatter(x, times)\n",
    "plot([100, 2000], [a + b*100, a + b*2000])\n",
    "xlabel(\"Number of subjects\")\n",
    "ylabel(\"Time to complete 1 iteration\");"
   ]
  },
  {
   "cell_type": "code",
   "execution_count": 167,
   "metadata": {
    "collapsed": false
   },
   "outputs": [
    {
     "name": "stdout",
     "output_type": "stream",
     "text": [
      "estimated time: 9.139648798829212 hours"
     ]
    }
   ],
   "source": [
    "n_iter = 2000\n",
    "full_x = round(exp(linspace(log(100/2), log(2000/2), n_iter)))*2\n",
    "print(\"estimated time: \", sum(a + b*full_x)/60/60, \" hours\")"
   ]
  },
  {
   "cell_type": "markdown",
   "metadata": {},
   "source": [
    "# Simulate!"
   ]
  },
  {
   "cell_type": "code",
   "execution_count": 176,
   "metadata": {
    "collapsed": false
   },
   "outputs": [
    {
     "name": "stdout",
     "output_type": "stream",
     "text": [
      "45278.056323 seconds (14.82 G allocations: 1.166 TB, 2.18% gc time)\n"
     ]
    }
   ],
   "source": [
    "@time equivalent = map(n -> sim(convert(Int64, n), 592, [.3, .3], 2), full_x);"
   ]
  },
  {
   "cell_type": "code",
   "execution_count": 177,
   "metadata": {
    "collapsed": false
   },
   "outputs": [
    {
     "name": "stdout",
     "output_type": "stream",
     "text": [
      "11828.182593 seconds (3.77 G allocations: 309.041 GB, 2.50% gc time)\n"
     ]
    }
   ],
   "source": [
    "n_iter = 1000\n",
    "sig_x = round(exp(linspace(log(50/2), log(1000/2), n_iter)))*2\n",
    "@time significant = map(n -> sim(convert(Int64, n), 592, [.3, .4], 1), sig_x);"
   ]
  },
  {
   "cell_type": "markdown",
   "metadata": {},
   "source": [
    "# Save results"
   ]
  },
  {
   "cell_type": "code",
   "execution_count": 185,
   "metadata": {
    "collapsed": true
   },
   "outputs": [],
   "source": [
    "writetable(\"equivalent.csv\", DataFrame(x=full_x, y=convert(Array{Int64,1}, equivalent)))"
   ]
  },
  {
   "cell_type": "code",
   "execution_count": 187,
   "metadata": {
    "collapsed": false
   },
   "outputs": [],
   "source": [
    "writetable(\"significant.csv\", DataFrame(x=sig_x, y=convert(Array{Int64,1}, significant)))"
   ]
  }
 ],
 "metadata": {
  "kernelspec": {
   "display_name": "Julia 0.5.2",
   "language": "julia",
   "name": "julia-0.5"
  },
  "language_info": {
   "file_extension": ".jl",
   "mimetype": "application/julia",
   "name": "julia",
   "version": "0.5.2"
  }
 },
 "nbformat": 4,
 "nbformat_minor": 2
}
